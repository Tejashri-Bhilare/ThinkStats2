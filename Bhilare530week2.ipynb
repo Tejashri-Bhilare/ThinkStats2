{
 "cells": [
  {
   "cell_type": "code",
   "execution_count": 3,
   "id": "d8165331-032c-4f4d-9b40-65e47d4a761e",
   "metadata": {},
   "outputs": [
    {
     "name": "stdout",
     "output_type": "stream",
     "text": [
      "Hello World! My name is Tejashri\n"
     ]
    }
   ],
   "source": [
    "#Course : DSC530\n",
    "# Assignment 2.1 : Preparing for Exploratory Data Analysis\n",
    "\n",
    "# Displaying \"Hello World program \"\n",
    "name = \"Tejashri\"\n",
    "print(\"Hello World! My name is\", name)\n"
   ]
  },
  {
   "cell_type": "code",
   "execution_count": 4,
   "id": "f0492787-205f-412b-aa89-551854fccd8f",
   "metadata": {},
   "outputs": [
    {
     "name": "stdout",
     "output_type": "stream",
     "text": [
      "Addition result: 17\n"
     ]
    }
   ],
   "source": [
    "# Adding two numbers together\n",
    "num1 = 11\n",
    "num2 = 6\n",
    "addition_result = num1 + num2\n",
    "print(\"Addition result:\", addition_result)"
   ]
  },
  {
   "cell_type": "code",
   "execution_count": 5,
   "id": "5fee4660-8b27-4ec9-a654-0f65b5874426",
   "metadata": {},
   "outputs": [
    {
     "name": "stdout",
     "output_type": "stream",
     "text": [
      "Subtraction result: 5\n"
     ]
    }
   ],
   "source": [
    "\n",
    "# Subtracting a number from another number\n",
    "num3 = 8\n",
    "num4 = 3\n",
    "subtraction_result = num3 - num4\n",
    "print(\"Subtraction result:\", subtraction_result)"
   ]
  },
  {
   "cell_type": "code",
   "execution_count": 6,
   "id": "27c09600-93e7-4e7f-90eb-30a126a6c98e",
   "metadata": {},
   "outputs": [
    {
     "name": "stdout",
     "output_type": "stream",
     "text": [
      "Multiplication result: 24\n"
     ]
    }
   ],
   "source": [
    "# Multiplying two numbers\n",
    "num5 = 6\n",
    "num6 = 4\n",
    "multiplication_result = num5 * num6\n",
    "print(\"Multiplication result:\", multiplication_result)"
   ]
  },
  {
   "cell_type": "code",
   "execution_count": 7,
   "id": "feb29479-31a9-43b8-97b1-1053ded57870",
   "metadata": {},
   "outputs": [
    {
     "name": "stdout",
     "output_type": "stream",
     "text": [
      "Division result: 40.0\n"
     ]
    }
   ],
   "source": [
    "# Dividing between two numbers\n",
    "num7 = 200\n",
    "num8 = 5\n",
    "division_result = num7 / num8\n",
    "print(\"Division result:\", division_result)"
   ]
  },
  {
   "cell_type": "code",
   "execution_count": 8,
   "id": "41a3331c-12f6-434e-9ee8-56de279d8361",
   "metadata": {},
   "outputs": [
    {
     "name": "stdout",
     "output_type": "stream",
     "text": [
      "Concatenated string: Hello World\n"
     ]
    }
   ],
   "source": [
    "# Concatenating two strings together\n",
    "string1 = \"Hello\"\n",
    "string2 = \"World\"\n",
    "concatenated_string = string1 + \" \" + string2\n",
    "print(\"Concatenated string:\", concatenated_string)"
   ]
  },
  {
   "cell_type": "code",
   "execution_count": 9,
   "id": "5bf52630-aa91-4520-8798-14b12c000613",
   "metadata": {},
   "outputs": [
    {
     "name": "stdout",
     "output_type": "stream",
     "text": [
      "Original list: [6, 'apple', 11.07, 'banana']\n"
     ]
    }
   ],
   "source": [
    "# Creating a list of 4 items\n",
    "my_list = [6, \"apple\", 11.07, \"banana\"]\n",
    "print(\"Original list:\", my_list)"
   ]
  },
  {
   "cell_type": "code",
   "execution_count": 10,
   "id": "4da97b0a-8042-4779-a1e4-8d62298b9a3f",
   "metadata": {},
   "outputs": [
    {
     "name": "stdout",
     "output_type": "stream",
     "text": [
      "List after appending: [6, 'apple', 11.07, 'banana', 'grape']\n"
     ]
    }
   ],
   "source": [
    "# Appending an item to the list\n",
    "my_list.append(\"grape\")\n",
    "print(\"List after appending:\", my_list)"
   ]
  },
  {
   "cell_type": "code",
   "execution_count": 11,
   "id": "2eb38995-238d-48c7-9753-97b940b2363c",
   "metadata": {},
   "outputs": [
    {
     "name": "stdout",
     "output_type": "stream",
     "text": [
      "Tuple: (55, 'orange', 9.718, 'cherry')\n"
     ]
    }
   ],
   "source": [
    "# Creating a tuple with 4 items\n",
    "my_tuple = (55, \"orange\", 9.718, \"cherry\")\n",
    "print(\"Tuple:\", my_tuple)"
   ]
  },
  {
   "cell_type": "code",
   "execution_count": null,
   "id": "7e665ed7-06b1-43bf-b6d8-05fb721c2951",
   "metadata": {},
   "outputs": [],
   "source": []
  }
 ],
 "metadata": {
  "kernelspec": {
   "display_name": "Python 3 (ipykernel)",
   "language": "python",
   "name": "python3"
  },
  "language_info": {
   "codemirror_mode": {
    "name": "ipython",
    "version": 3
   },
   "file_extension": ".py",
   "mimetype": "text/x-python",
   "name": "python",
   "nbconvert_exporter": "python",
   "pygments_lexer": "ipython3",
   "version": "3.11.4"
  }
 },
 "nbformat": 4,
 "nbformat_minor": 5
}
